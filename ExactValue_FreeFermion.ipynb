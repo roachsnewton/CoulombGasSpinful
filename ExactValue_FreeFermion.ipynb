{
 "cells": [
  {
   "cell_type": "code",
   "execution_count": 1,
   "metadata": {},
   "outputs": [],
   "source": [
    "import jax\n",
    "import jax.numpy as jnp\n",
    "import numpy as np\n",
    "from src.freefermion.analytic import Z_E\n",
    "from mpmath import mpf, mp"
   ]
  },
  {
   "attachments": {},
   "cell_type": "markdown",
   "metadata": {},
   "source": [
    "----------\n"
   ]
  },
  {
   "cell_type": "code",
   "execution_count": 2,
   "metadata": {},
   "outputs": [
    {
     "name": "stdout",
     "output_type": "stream",
     "text": [
      "N: 10, F: 19.639815, E: 21.386972, S: 2.911928\n",
      "N: 18, F: 34.661573, E: 38.201506, S: 5.899888\n",
      "N: 26, F: 49.622104, E: 55.048516, S: 9.044022\n",
      "N: 42, F: 79.572868, E: 89.550207, S: 16.628898\n",
      "N: 50, F: 94.501408, E: 106.786923, S: 20.475858\n",
      "N: 58, F: 109.402244, E: 123.923795, S: 24.202585\n",
      "N: 74, F: 139.182966, E: 158.291255, S: 31.847148\n"
     ]
    }
   ],
   "source": [
    "# 2D spinless\n",
    "mp.dps = 1200\n",
    "dim = 2\n",
    "Theta = 0.15\n",
    "twist = np.array([1/4, 1/4])\n",
    "for n in [5,9,13,21,25,29,37]:\n",
    "    F, E, S = Z_E(n, dim, mpf(str(Theta)), [mpf(twist_i) for twist_i in np.array(twist)])\n",
    "    print(\"N: %d, F: %.6f, E: %.6f, S: %.6f\" % (n*2, F*2, E*2, S*2))"
   ]
  },
  {
   "cell_type": "code",
   "execution_count": 3,
   "metadata": {},
   "outputs": [
    {
     "name": "stdout",
     "output_type": "stream",
     "text": [
      "N: 10, F: 19.639815, E: 21.386972, S: 2.911928\n",
      "N: 18, F: 34.661573, E: 38.201506, S: 5.899888\n",
      "N: 26, F: 49.622104, E: 55.048516, S: 9.044022\n",
      "N: 42, F: 79.572868, E: 89.550207, S: 16.628898\n",
      "N: 50, F: 94.501408, E: 106.786923, S: 20.475858\n",
      "N: 58, F: 109.402244, E: 123.923795, S: 24.202585\n",
      "N: 74, F: 139.182966, E: 158.291255, S: 31.847148\n",
      "\n",
      "N: 10, F/N: 1.963982, E/N: 2.138697, S/N: 0.291193\n",
      "N: 18, F/N: 1.925643, E/N: 2.122306, S/N: 0.327772\n",
      "N: 26, F/N: 1.908542, E/N: 2.117251, S/N: 0.347847\n",
      "N: 42, F/N: 1.894592, E/N: 2.132148, S/N: 0.395926\n",
      "N: 50, F/N: 1.890028, E/N: 2.135738, S/N: 0.409517\n",
      "N: 58, F/N: 1.886246, E/N: 2.136617, S/N: 0.417286\n",
      "N: 74, F/N: 1.880851, E/N: 2.139071, S/N: 0.430367\n"
     ]
    }
   ],
   "source": [
    "# 2D spinful Nup = Ndown = N/2\n",
    "mp.dps = 1200\n",
    "dim = 2\n",
    "Theta = 0.15\n",
    "twist = np.array([1/4, 1/4])\n",
    "for n in [5,9,13,21,25,29,37]:\n",
    "    F, E, S = Z_E(n, dim, mpf(str(Theta)), [mpf(twist_i) for twist_i in np.array(twist)])\n",
    "    print(\"N: %d, F: %.6f, E: %.6f, S: %.6f\" % (n*2, F*2, E*2, S*2))\n",
    "\n",
    "print(\"\")\n",
    "# perparticle\n",
    "for n in [5,9,13,21,25,29,37]:\n",
    "    F, E, S = Z_E(n, dim, mpf(str(Theta)), [mpf(twist_i) for twist_i in np.array(twist)])\n",
    "    print(\"N: %d, F/N: %.6f, E/N: %.6f, S/N: %.6f\" % (n*2, F*2/(n*2), E*2/(n*2), S*2/(n*2)))"
   ]
  },
  {
   "cell_type": "code",
   "execution_count": 4,
   "metadata": {},
   "outputs": [
    {
     "name": "stdout",
     "output_type": "stream",
     "text": [
      "N: 7, F: 23.253772, E: 26.077546, S: 3.219810\n",
      "N: 19, F: 61.957585, E: 71.961055, S: 11.406468\n",
      "N: 27, F: 87.676434, E: 102.882079, S: 17.338253\n",
      "N: 33, F: 106.848078, E: 125.590116, S: 21.370629\n"
     ]
    }
   ],
   "source": [
    "# 3D spinless\n",
    "mp.dps = 1200\n",
    "dim = 3\n",
    "Theta = 0.15\n",
    "twist = np.array([1/4, 1/4, 1/4])\n",
    "for n in [7, 19, 27, 33]:\n",
    "    F, E, S = Z_E(n, dim, mpf(str(Theta)), [mpf(twist_i) for twist_i in np.array(twist)])\n",
    "    print(\"N: %d, F: %.6f, E: %.6f, S: %.6f\" % (n, F, E, S))"
   ]
  },
  {
   "cell_type": "code",
   "execution_count": 5,
   "metadata": {},
   "outputs": [
    {
     "name": "stdout",
     "output_type": "stream",
     "text": [
      "N: 14, F: 48.234840, E: 48.432226, S: 0.540167\n",
      "N: 38, F: 131.398167, E: 133.698958, S: 6.296352\n",
      "N: 54, F: 188.029898, E: 193.557824, S: 15.127736\n",
      "N: 66, F: 228.795777, E: 234.753103, S: 16.302833\n",
      "\n",
      "\n",
      "N: 14, F/N: 3.445346, E/N: 3.459445, S/N: 0.038583\n",
      "N: 38, F/N: 3.457846, E/N: 3.518394, S/N: 0.165693\n",
      "N: 54, F/N: 3.482035, E/N: 3.584404, S/N: 0.280143\n",
      "N: 66, F/N: 3.466603, E/N: 3.556865, S/N: 0.247013\n"
     ]
    }
   ],
   "source": [
    "# 3D spinful Nup = Ndown = N/2\n",
    "mp.dps = 1200\n",
    "dim = 3\n",
    "Theta = 0.0625\n",
    "twist = np.array([1/4, 1/4, 1/4])\n",
    "for n in [7, 19, 27, 33]:\n",
    "    F, E, S = Z_E(n, dim, mpf(str(Theta)), [mpf(twist_i) for twist_i in np.array(twist)])\n",
    "    print(\"N: %d, F: %.6f, E: %.6f, S: %.6f\" % (n*2, F*2, E*2, S*2))\n",
    "\n",
    "print(\"\\n\")\n",
    "# 3D spinful per particle, Nup = Ndown = N/2\n",
    "for n in [7, 19, 27, 33]:\n",
    "    F, E, S = Z_E(n, dim, mpf(str(Theta)), [mpf(twist_i) for twist_i in np.array(twist)])\n",
    "    print(\"N: %d, F/N: %.6f, E/N: %.6f, S/N: %.6f\" % (n*2, F*2/(n*2), E*2/(n*2), S*2/(n*2)))"
   ]
  },
  {
   "cell_type": "code",
   "execution_count": 7,
   "metadata": {},
   "outputs": [
    {
     "name": "stdout",
     "output_type": "stream",
     "text": [
      "N: 2, F/N: -0.096515, E/N: 0.498841, S/N: 0.203656\n",
      "N: 4, F/N: 1.911425, E/N: 5.637736, S/N: 1.274679\n",
      "N: 6, F/N: 1.733776, E/N: 6.123939, S/N: 1.501766\n",
      "N: 8, F/N: 1.497200, E/N: 6.165252, S/N: 1.596825\n",
      "N: 10, F/N: 1.311929, E/N: 6.120900, S/N: 1.645030\n",
      "N: 12, F/N: 1.173557, E/N: 6.055885, S/N: 1.670124\n",
      "N: 14, F/N: 1.070154, E/N: 5.993218, S/N: 1.684059\n",
      "N: 16, F/N: 0.991969, E/N: 5.942405, S/N: 1.693422\n",
      "N: 18, F/N: 0.931848, E/N: 5.905944, S/N: 1.701515\n",
      "N: 20, F/N: 0.884679, E/N: 5.882829, S/N: 1.709744\n",
      "N: 22, F/N: 0.846846, E/N: 5.870642, S/N: 1.718517\n",
      "N: 24, F/N: 0.815798, E/N: 5.866658, S/N: 1.727775\n",
      "N: 26, F/N: 0.789742, E/N: 5.868384, S/N: 1.737278\n",
      "N: 28, F/N: 0.767412, E/N: 5.873758, S/N: 1.746755\n",
      "N: 30, F/N: 0.747918, E/N: 5.881195, S/N: 1.755967\n",
      "N: 32, F/N: 0.730625, E/N: 5.889546, S/N: 1.764739\n",
      "N: 34, F/N: 0.715082, E/N: 5.898021, S/N: 1.772956\n",
      "N: 36, F/N: 0.700962, E/N: 5.906116, S/N: 1.780554\n",
      "N: 38, F/N: 0.688028, E/N: 5.913535, S/N: 1.787517\n",
      "N: 40, F/N: 0.676101, E/N: 5.920133, S/N: 1.793854\n",
      "N: 42, F/N: 0.665047, E/N: 5.925865, S/N: 1.799596\n",
      "N: 44, F/N: 0.654761, E/N: 5.930754, S/N: 1.804787\n",
      "N: 46, F/N: 0.645160, E/N: 5.934858, S/N: 1.809475\n",
      "N: 48, F/N: 0.636174, E/N: 5.938260, S/N: 1.813713\n",
      "N: 50, F/N: 0.627747, E/N: 5.941047, S/N: 1.817549\n",
      "N: 52, F/N: 0.619831, E/N: 5.943310, S/N: 1.821031\n",
      "N: 54, F/N: 0.612382, E/N: 5.945132, S/N: 1.824202\n",
      "N: 56, F/N: 0.605363, E/N: 5.946590, S/N: 1.827102\n",
      "N: 58, F/N: 0.598740, E/N: 5.947754, S/N: 1.829765\n",
      "N: 60, F/N: 0.592484, E/N: 5.948680, S/N: 1.832222\n",
      "N: 62, F/N: 0.586568, E/N: 5.949421, S/N: 1.834500\n",
      "N: 64, F/N: 0.580965, E/N: 5.950018, S/N: 1.836620\n",
      "N: 66, F/N: 0.575655, E/N: 5.950506, S/N: 1.838604\n",
      "N: 68, F/N: 0.570615, E/N: 5.950913, S/N: 1.840467\n",
      "N: 70, F/N: 0.565826, E/N: 5.951262, S/N: 1.842225\n",
      "N: 72, F/N: 0.561272, E/N: 5.951570, S/N: 1.843888\n",
      "N: 74, F/N: 0.556935, E/N: 5.951853, S/N: 1.845468\n",
      "N: 76, F/N: 0.552801, E/N: 5.952119, S/N: 1.846973\n",
      "N: 78, F/N: 0.548857, E/N: 5.952378, S/N: 1.848411\n",
      "N: 80, F/N: 0.545089, E/N: 5.952635, S/N: 1.849788\n",
      "N: 82, F/N: 0.541486, E/N: 5.952893, S/N: 1.851109\n",
      "N: 84, F/N: 0.538037, E/N: 5.953156, S/N: 1.852378\n",
      "N: 86, F/N: 0.534733, E/N: 5.953425, S/N: 1.853601\n",
      "N: 88, F/N: 0.531564, E/N: 5.953699, S/N: 1.854779\n",
      "N: 90, F/N: 0.528523, E/N: 5.953981, S/N: 1.855915\n",
      "N: 92, F/N: 0.525600, E/N: 5.954268, S/N: 1.857013\n",
      "N: 94, F/N: 0.522789, E/N: 5.954560, S/N: 1.858075\n",
      "N: 96, F/N: 0.520084, E/N: 5.954856, S/N: 1.859101\n",
      "N: 98, F/N: 0.517479, E/N: 5.955156, S/N: 1.860095\n",
      "N: 100, F/N: 0.514967, E/N: 5.955457, S/N: 1.861057\n",
      "N: 102, F/N: 0.512543, E/N: 5.955759, S/N: 1.861990\n",
      "N: 104, F/N: 0.510203, E/N: 5.956061, S/N: 1.862894\n",
      "N: 106, F/N: 0.507943, E/N: 5.956362, S/N: 1.863770\n",
      "N: 108, F/N: 0.505757, E/N: 5.956660, S/N: 1.864619\n",
      "N: 110, F/N: 0.503643, E/N: 5.956956, S/N: 1.865444\n",
      "N: 112, F/N: 0.501595, E/N: 5.957247, S/N: 1.866244\n",
      "N: 114, F/N: 0.499612, E/N: 5.957534, S/N: 1.867020\n",
      "N: 116, F/N: 0.497691, E/N: 5.957816, S/N: 1.867774\n",
      "N: 118, F/N: 0.495827, E/N: 5.958092, S/N: 1.868506\n",
      "N: 120, F/N: 0.494018, E/N: 5.958363, S/N: 1.869217\n",
      "N: 122, F/N: 0.492262, E/N: 5.958627, S/N: 1.869908\n",
      "N: 124, F/N: 0.490557, E/N: 5.958884, S/N: 1.870580\n",
      "N: 126, F/N: 0.488900, E/N: 5.959135, S/N: 1.871232\n",
      "N: 128, F/N: 0.487288, E/N: 5.959378, S/N: 1.871867\n",
      "N: 130, F/N: 0.485721, E/N: 5.959615, S/N: 1.872484\n",
      "N: 132, F/N: 0.484196, E/N: 5.959845, S/N: 1.873084\n",
      "N: 134, F/N: 0.482711, E/N: 5.960068, S/N: 1.873669\n",
      "N: 136, F/N: 0.481266, E/N: 5.960285, S/N: 1.874237\n",
      "N: 138, F/N: 0.479857, E/N: 5.960494, S/N: 1.874791\n",
      "N: 140, F/N: 0.478484, E/N: 5.960697, S/N: 1.875330\n",
      "N: 142, F/N: 0.477145, E/N: 5.960893, S/N: 1.875855\n",
      "N: 144, F/N: 0.475840, E/N: 5.961084, S/N: 1.876366\n",
      "N: 146, F/N: 0.474566, E/N: 5.961268, S/N: 1.876865\n",
      "N: 148, F/N: 0.473323, E/N: 5.961446, S/N: 1.877351\n",
      "N: 150, F/N: 0.472109, E/N: 5.961618, S/N: 1.877825\n",
      "N: 152, F/N: 0.470924, E/N: 5.961785, S/N: 1.878288\n",
      "N: 154, F/N: 0.469766, E/N: 5.961946, S/N: 1.878739\n",
      "N: 156, F/N: 0.468634, E/N: 5.962102, S/N: 1.879180\n",
      "N: 158, F/N: 0.467528, E/N: 5.962254, S/N: 1.879610\n",
      "N: 160, F/N: 0.466447, E/N: 5.962400, S/N: 1.880030\n",
      "N: 162, F/N: 0.465389, E/N: 5.962542, S/N: 1.880440\n",
      "N: 164, F/N: 0.464355, E/N: 5.962680, S/N: 1.880841\n",
      "N: 166, F/N: 0.463342, E/N: 5.962813, S/N: 1.881233\n",
      "N: 168, F/N: 0.462351, E/N: 5.962943, S/N: 1.881617\n",
      "N: 170, F/N: 0.461381, E/N: 5.963068, S/N: 1.881991\n",
      "N: 172, F/N: 0.460431, E/N: 5.963190, S/N: 1.882358\n",
      "N: 174, F/N: 0.459501, E/N: 5.963309, S/N: 1.882717\n",
      "N: 176, F/N: 0.458589, E/N: 5.963424, S/N: 1.883068\n",
      "N: 178, F/N: 0.457696, E/N: 5.963536, S/N: 1.883412\n",
      "N: 180, F/N: 0.456820, E/N: 5.963645, S/N: 1.883749\n",
      "N: 182, F/N: 0.455962, E/N: 5.963752, S/N: 1.884079\n",
      "N: 184, F/N: 0.455121, E/N: 5.963855, S/N: 1.884402\n",
      "N: 186, F/N: 0.454295, E/N: 5.963956, S/N: 1.884719\n",
      "N: 188, F/N: 0.453486, E/N: 5.964054, S/N: 1.885029\n",
      "N: 190, F/N: 0.452692, E/N: 5.964150, S/N: 1.885334\n",
      "N: 192, F/N: 0.451912, E/N: 5.964244, S/N: 1.885633\n",
      "N: 194, F/N: 0.451147, E/N: 5.964335, S/N: 1.885926\n",
      "N: 196, F/N: 0.450396, E/N: 5.964425, S/N: 1.886213\n",
      "N: 198, F/N: 0.449659, E/N: 5.964512, S/N: 1.886495\n"
     ]
    }
   ],
   "source": [
    "# 3D spinful Nup = Ndown = N/2\n",
    "# 3D spinful per particle, Nup = Ndown = N/2\n",
    "mp.dps = 1200\n",
    "dim = 3\n",
    "Theta = 0.50\n",
    "#twist = np.array([1/4, 1/4, 1/4])\n",
    "twist = np.array([0.0, 0.0, 0.0])\n",
    "ListN = []\n",
    "ListS = []\n",
    "for n in range(1,100):\n",
    "    F, E, S = Z_E(n, dim, mpf(str(Theta)), [mpf(twist_i) for twist_i in np.array(twist)])\n",
    "    print(\"N: %d, F/N: %.6f, E/N: %.6f, S/N: %.6f\" % (n*2, F*2/(n*2), E*2/(n*2), S*2/(n*2)))\n",
    "    ListN.append(n*2)\n",
    "    ListS.append(S/n)"
   ]
  },
  {
   "cell_type": "code",
   "execution_count": 8,
   "metadata": {},
   "outputs": [
    {
     "data": {
      "image/png": "[encoded data removed]",
      "text/plain": [
       "<Figure size 800x600 with 1 Axes>"
      ]
     },
     "metadata": {},
     "output_type": "display_data"
    }
   ],
   "source": [
    "import matplotlib.pyplot as plt\n",
    "fig = plt.figure(figsize=(8, 6))   \n",
    "plt.plot(ListN, ListS, marker='.')\n",
    "plt.xlabel('epochs')\n",
    "plt.ylabel('values')\n",
    "plt.legend(['S'])\n",
    "plt.show()"
   ]
  }
 ],
 "metadata": {
  "kernelspec": {
   "display_name": "Python 3 (ipykernel)",
   "language": "python",
   "name": "python3"
  },
  "language_info": {
   "codemirror_mode": {
    "name": "ipython",
    "version": 3
   },
   "file_extension": ".py",
   "mimetype": "text/x-python",
   "name": "python",
   "nbconvert_exporter": "python",
   "pygments_lexer": "ipython3",
   "version": "3.9.7"
  }
 },
 "nbformat": 4,
 "nbformat_minor": 2
}
